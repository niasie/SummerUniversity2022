{
 "cells": [
  {
   "cell_type": "markdown",
   "metadata": {},
   "source": [
    "## Exercise 3. GLMs, Logistic Regression\n",
    "\n",
    "1. Convince yourself, that, if we encode the binary outcome as $Y \\in {\\pm 1}$, the (conditional) log-likelihood under the logistic regression model simplifies to:\n",
    "\n",
    "$L(w) := \\log P(Y \\mid X, w) = \\sum_i \\log \\sigma(y_i \\Phi(x_i)^T w)$\n",
    "\n",
    "2. Convince yourself, that $\\sigma'(x) = \\sigma(x) (1 - \\sigma(x))$ for the logistic function. What is $\\nabla_w L(w)$?\n",
    "3. Fit a binary logistic regression model to the problem of distinguishing 4s vs 7s in the MNIST dataset.\n",
    "    - See e.g.: [https://docs.rapids.ai/api/cuml/nightly/api.html#logistic-regression](https://docs.rapids.ai/api/cuml/nightly/api.html#logistic-regression)\n"
   ]
  },
  {
   "cell_type": "code",
   "execution_count": 1,
   "metadata": {},
   "outputs": [],
   "source": [
    "import numpy as np\n",
    "import matplotlib.pyplot as plt\n",
    "import sklearn\n",
    "from sklearn.datasets import fetch_openml\n",
    "\n",
    "import cupy as cp\n",
    "import cuml\n",
    "from cuml.linear_model import LogisticRegression\n",
    "from cuml.model_selection import train_test_split\n",
    "\n",
    "# Download the data.\n",
    "X, y = fetch_openml('mnist_784', version=1, return_X_y=True, as_frame=False) "
   ]
  },
  {
   "cell_type": "code",
   "execution_count": null,
   "metadata": {},
   "outputs": [],
   "source": [
    "# Move the data onto the device.\n",
    "# Cupy implements the array interface that cuML understands, among other libraries. \n",
    "X_d = cp.asarray(X, dtype=cp.float32)\n",
    "y_d = cp.asarray(y, dtype=cp.float32)\n",
    "\n",
    "# Scale features to [0,1]\n",
    "X_d /= 255.0\n",
    "\n",
    "# Set up the binary classification problem 4 vs 7.\n",
    "class_0 = 4\n",
    "class_1 = 7\n",
    "idx_ = cp.logical_or((y_d == class_0), (y_d == class_1))\n",
    "X_ = X_d[idx_, :]\n",
    "y_ = y_d[idx_]\n",
    "y_[y_ == class_0] = 0.0\n",
    "y_[y_ == class_1] = 1.0\n",
    "\n",
    "# Prepare the train and test data.\n",
    "X_train, X_test, y_train, y_test = train_test_split(X_, y_, random_state=77)\n",
    "\n",
    "# "
   ]
  }
 ],
 "metadata": {
  "kernelspec": {
   "display_name": "Python 3 (ipykernel)",
   "language": "python",
   "name": "python3"
  },
  "language_info": {
   "codemirror_mode": {
    "name": "ipython",
    "version": 3
   },
   "file_extension": ".py",
   "mimetype": "text/x-python",
   "name": "python",
   "nbconvert_exporter": "python",
   "pygments_lexer": "ipython3",
   "version": "3.8.13"
  }
 },
 "nbformat": 4,
 "nbformat_minor": 4
}
