{
 "cells": [
  {
   "cell_type": "markdown",
   "metadata": {},
   "source": [
    "## Exercise 2. Generalization Error and Regularization\n",
    "\n",
    "Consider the input space $\\mathcal{X} = [-1,1]$ and $\\mathcal{Y} = \\mathbb{R}$, and the following ground-truth function:\n",
    "\n",
    "$y = f(x) = 0.1 x^3 - 0.025 x^2 + 0.01 x + 0.2$\n",
    "\n",
    "1. Draw a random training set of size 25, using the following rule:\n",
    "\n",
    "$y = f(x) + \\epsilon, x \\sim \\text{Uniform}([-1,1]), \\epsilon \\sim \\mathcal{N}(0, 10^{-4})$\n",
    "\n",
    "2. Draw a test set of size 100 using the ground-truth function above.\n",
    "3. Fit an order $k$ polynomial and plot train and test error vs $k$ for $k = {0, \\ldots, 15}$. Use the mean squared error $l(y, \\hat y) = \\frac{1}{N} \\sum_i (y_i - \\hat y_i)^2$ to compute train and test errors\n",
    "4. For different $k=0,3,15$, draw training sets of growing size: $N=25,250,2500$. Plot test error vs the number of training points.\n",
    "5. Repeat 4, but fix $k=15$, and plot train and test error vs $\\lambda={0, 0.1, 1000}$, the regularization strenght of the l2 penalty"
   ]
  }
 ],
 "metadata": {
  "kernelspec": {
   "display_name": "Python 3 (ipykernel)",
   "language": "python",
   "name": "python3"
  },
  "language_info": {
   "codemirror_mode": {
    "name": "ipython",
    "version": 3
   },
   "file_extension": ".py",
   "mimetype": "text/x-python",
   "name": "python",
   "nbconvert_exporter": "python",
   "pygments_lexer": "ipython3",
   "version": "3.8.13"
  }
 },
 "nbformat": 4,
 "nbformat_minor": 4
}
